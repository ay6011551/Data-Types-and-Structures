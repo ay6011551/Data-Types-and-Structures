{
  "nbformat": 4,
  "nbformat_minor": 0,
  "metadata": {
    "colab": {
      "provenance": []
    },
    "kernelspec": {
      "name": "python3",
      "display_name": "Python 3"
    },
    "language_info": {
      "name": "python"
    }
  },
  "cells": [
    {
      "cell_type": "code",
      "execution_count": null,
      "metadata": {
        "id": "5Xyp09ZWQTFj"
      },
      "outputs": [],
      "source": []
    },
    {
      "cell_type": "markdown",
      "source": [
        "1. What are data structures, and why are they important?\n",
        "\n",
        "-> Data structures are ways of organizing and storing data so that they can be accessed and modified efficiently. They are important because they help:\n",
        "\n",
        "1. Improve the efficiency of algorithms\n",
        "\n",
        "2. Reduce complexity\n",
        "\n",
        "3. Organize data logically (e.g., storing key-value pairs in a dictionary)"
      ],
      "metadata": {
        "id": "4bCnAZgAQaLZ"
      }
    },
    {
      "cell_type": "markdown",
      "source": [
        "2.  Difference between mutable and immutable data types with examples"
      ],
      "metadata": {
        "id": "75r2DciEQpn8"
      }
    },
    {
      "cell_type": "markdown",
      "source": [
        "1 Mutable: Can be changed after creation.\n",
        "ex Example: list, dict, set"
      ],
      "metadata": {
        "id": "cdsvHtPZQupR"
      }
    },
    {
      "cell_type": "code",
      "source": [
        "a = [1, 2, 3]\n",
        "a[0] = 10  # Allowed"
      ],
      "metadata": {
        "id": "A4qPkanlQ25U"
      },
      "execution_count": 1,
      "outputs": []
    },
    {
      "cell_type": "markdown",
      "source": [
        "2 Immutable: Cannot be changed after creation.\n",
        "\n",
        "Example: int, str, tuple"
      ],
      "metadata": {
        "id": "GMJO28R5Q9hF"
      }
    },
    {
      "cell_type": "code",
      "source": [
        "s = \"hello\"\n",
        "s[0] = \"H\"  # Error"
      ],
      "metadata": {
        "id": "lCkCtanYRDcG"
      },
      "execution_count": null,
      "outputs": []
    },
    {
      "cell_type": "markdown",
      "source": [
        "3. Main differences between lists and tuples in Python\n",
        "-> In Python, the main differences between lists and tuples lie in their mutability, syntax, and performance. Lists are mutable, meaning their contents can be changed after creation — you can add, remove, or modify elements. In contrast, tuples are immutable, so once they are created, their contents cannot be altered. This makes tuples more suitable for fixed collections of items. The syntax also differs: lists use square brackets [], while tuples use parentheses (). Additionally, tuples are generally faster and more memory-efficient than lists due to their immutability, which makes them a better choice for storing constant data."
      ],
      "metadata": {
        "id": "EW6PvBJWREUi"
      }
    },
    {
      "cell_type": "markdown",
      "source": [
        "4. How dictionaries store data\n",
        "-> Dictionaries store key-value pairs using a hash table internally. Each key is hashed to a unique index, allowing for O(1) average-time access."
      ],
      "metadata": {
        "id": "N1rqIwR_RlJ8"
      }
    },
    {
      "cell_type": "markdown",
      "source": [
        "5. Why use a set instead of a list in Python\n",
        "\n",
        "->\n",
        "- Faster lookups (O(1) in sets vs O(n) in lists)\n",
        "\n",
        "- Automatically removes duplicates"
      ],
      "metadata": {
        "id": "XHD6xvOiRu6r"
      }
    },
    {
      "cell_type": "markdown",
      "source": [
        "6. What is a string in Python, and how is it different from a list\n",
        "->\n",
        "- A string is a sequence of characters.\n",
        "\n",
        "- Difference: Strings are immutable, lists are mutable."
      ],
      "metadata": {
        "id": "hhJJ3GdLR2ab"
      }
    },
    {
      "cell_type": "code",
      "source": [
        "s = \"hello\"\n",
        "s[0] = \"H\"  # Error\n",
        "\n",
        "l = ['h', 'e', 'l']\n",
        "l[0] = 'H'  # Works"
      ],
      "metadata": {
        "id": "wcAH6TTMR_eS"
      },
      "execution_count": null,
      "outputs": []
    },
    {
      "cell_type": "markdown",
      "source": [
        "7. How do tuples ensure data integrity in Python\n",
        "\n",
        "Tuples are immutable, so once created, their content can't be altered. This protects data from accidental modification, making them ideal for constants or fixed configurations."
      ],
      "metadata": {
        "id": "pSopIKdlSAIZ"
      }
    },
    {
      "cell_type": "markdown",
      "source": [
        "8. What is a hash table, and how does it relate to dictionaries in Python\n",
        "\n",
        "A hash table is a data structure that maps keys to values using a hash function. In Python, dictionaries are implemented using hash tables, enabling fast lookups, insertions, and deletions."
      ],
      "metadata": {
        "id": "N45w9FI5SCFT"
      }
    },
    {
      "cell_type": "markdown",
      "source": [
        "9. Can lists contain different data types in Python\n",
        "\n",
        "Yes. Python lists can hold elements of mixed data types."
      ],
      "metadata": {
        "id": "9xwQu_1BSFKJ"
      }
    },
    {
      "cell_type": "markdown",
      "source": [
        "10. Why are strings immutable in Python\n",
        "\n",
        "- For performance (shared memory across variables)\n",
        "\n",
        "- For safety (especially when used as keys in dictionaries)\n",
        "\n",
        "- Enables hashing"
      ],
      "metadata": {
        "id": "7Czr19MSSHIg"
      }
    },
    {
      "cell_type": "markdown",
      "source": [
        "11. Advantages of dictionaries over lists for certain tasks\n",
        "\n",
        "- Faster lookups with keys (O(1) vs O(n))\n",
        "\n",
        "- Key-based access instead of relying on indices\n",
        "\n",
        "- More readable and meaningful code"
      ],
      "metadata": {
        "id": "l_tirHWrSODC"
      }
    },
    {
      "cell_type": "markdown",
      "source": [
        "12. How do sets handle duplicate values in Python\n",
        "\n",
        "Sets automatically remove duplicates."
      ],
      "metadata": {
        "id": "7CqjacrDSSCL"
      }
    },
    {
      "cell_type": "markdown",
      "source": [
        "13. Scenario where using a tuple is preferable over a list\n",
        "\n",
        "Use a tuple when:\n",
        "\n",
        "- You need to store constant data\n",
        "\n",
        "- The data is used as a dictionary key\n",
        "\n",
        "- You want to ensure the data can't be modified"
      ],
      "metadata": {
        "id": "1t8JIJMVSVby"
      }
    },
    {
      "cell_type": "markdown",
      "source": [
        "14. How does the in keyword work differently for lists and dictionaries\n",
        "\n",
        "- List: Checks if value exists in the list.\n",
        "\n",
        "- Dictionary: Checks if key exists in the dictionary."
      ],
      "metadata": {
        "id": "myALCoaOScXt"
      }
    },
    {
      "cell_type": "code",
      "source": [
        "3 in [1, 2, 3]        # True\n",
        "\"name\" in {\"name\": \"Bob\"}  # True\n",
        "\"Bob\" in {\"name\": \"Bob\"}   # False"
      ],
      "metadata": {
        "id": "HQmHDLOASsK3"
      },
      "execution_count": null,
      "outputs": []
    },
    {
      "cell_type": "markdown",
      "source": [
        "15. Can you modify the elements of a tuple? Why or why not?\n",
        "\n",
        "No. Tuples are immutable. Once created, you cannot change, add, or remove elements."
      ],
      "metadata": {
        "id": "MfTOtNQvSsvA"
      }
    },
    {
      "cell_type": "markdown",
      "source": [
        "16. What is a nested dictionary, and give an example of its use case\n",
        "\n",
        "A nested dictionary is a dictionary inside another dictionary."
      ],
      "metadata": {
        "id": "4uQwAIt2Sx6c"
      }
    },
    {
      "cell_type": "code",
      "source": [
        "student = {\n",
        "    \"name\": \"Alice\",\n",
        "    \"grades\": {\n",
        "        \"math\": 90,\n",
        "        \"science\": 85\n",
        "    }\n",
        "}"
      ],
      "metadata": {
        "id": "wyfEwTmDS0XY"
      },
      "execution_count": null,
      "outputs": []
    },
    {
      "cell_type": "markdown",
      "source": [
        "- Use case: Storing complex, structured data like records or configurations."
      ],
      "metadata": {
        "id": "LgQr1OEqS4-d"
      }
    },
    {
      "cell_type": "markdown",
      "source": [
        "17. Time complexity of accessing elements in a dictionary\n",
        "\n",
        "- Average case: O(1)\n",
        "\n",
        "- Worst case: O(n) (rare, due to hash collisions)"
      ],
      "metadata": {
        "id": "bHaTuWoAS7Jz"
      }
    },
    {
      "cell_type": "markdown",
      "source": [
        "18. In what situations are lists preferred over dictionaries\n",
        "\n",
        "- When order matters\n",
        "\n",
        "- When accessing by index\n",
        "\n",
        "- When storing sequential data without a need for key-value pairs"
      ],
      "metadata": {
        "id": "tgnUJbBlTBdS"
      }
    },
    {
      "cell_type": "markdown",
      "source": [
        "19. Why are dictionaries considered unordered, and how does that affect data retrieval?\n",
        "\n",
        "- Historically, dictionaries were unordered.\n",
        "\n",
        "- Since Python 3.7+, insertion order is preserved, but this is an implementation detail (not a sorting guarantee).\n",
        "\n",
        "- Retrieval by key is still unordered in terms of logic, i.e., you don’t access by position."
      ],
      "metadata": {
        "id": "qBSzlFooTHFN"
      }
    },
    {
      "cell_type": "markdown",
      "source": [
        "# Practical Questions"
      ],
      "metadata": {
        "id": "xe5uMHk0TmXj"
      }
    },
    {
      "cell_type": "markdown",
      "source": [
        "1. Create a string with your name and print it"
      ],
      "metadata": {
        "id": "wJQQDDJNToYE"
      }
    },
    {
      "cell_type": "code",
      "source": [
        "name = \"Abhishek yadav\"\n",
        "print(name)"
      ],
      "metadata": {
        "colab": {
          "base_uri": "https://localhost:8080/"
        },
        "id": "LanIlR0RT1xA",
        "outputId": "6f31f4ba-c4d5-440c-b1b5-6b5ce623fceb"
      },
      "execution_count": 6,
      "outputs": [
        {
          "output_type": "stream",
          "name": "stdout",
          "text": [
            "Abhishek yadav\n"
          ]
        }
      ]
    },
    {
      "cell_type": "markdown",
      "source": [
        "2. Find the length of the string \"Hello World\""
      ],
      "metadata": {
        "id": "IaK-fK4bUesU"
      }
    },
    {
      "cell_type": "code",
      "source": [
        "s = \"Hello Wrold\"\n",
        "print(len(s))"
      ],
      "metadata": {
        "colab": {
          "base_uri": "https://localhost:8080/"
        },
        "id": "QEUhIlOQUh2z",
        "outputId": "28057ea9-05fc-4ca2-c313-c8972b4a01f5"
      },
      "execution_count": 7,
      "outputs": [
        {
          "output_type": "stream",
          "name": "stdout",
          "text": [
            "11\n"
          ]
        }
      ]
    },
    {
      "cell_type": "markdown",
      "source": [
        "3. Slice the first 3 characters from the string \"Python Programming\""
      ],
      "metadata": {
        "id": "-l0gAqSWUqkP"
      }
    },
    {
      "cell_type": "code",
      "source": [
        "Word = \"Python Programming\"\n",
        "print(Word[:3])"
      ],
      "metadata": {
        "colab": {
          "base_uri": "https://localhost:8080/"
        },
        "id": "OUB13CAFVHyq",
        "outputId": "70468e3a-8546-4b53-ea12-6e1f3176814b"
      },
      "execution_count": 11,
      "outputs": [
        {
          "output_type": "stream",
          "name": "stdout",
          "text": [
            "Pyt\n"
          ]
        }
      ]
    },
    {
      "cell_type": "markdown",
      "source": [
        "4. Convert the string \"hello\" to uppercase"
      ],
      "metadata": {
        "id": "O0h6OuNSVgp3"
      }
    },
    {
      "cell_type": "code",
      "source": [
        "s = \"hello\"\n",
        "print(s.upper())"
      ],
      "metadata": {
        "colab": {
          "base_uri": "https://localhost:8080/"
        },
        "id": "DJB5VZiJViQ3",
        "outputId": "39653151-0c0c-4dfa-ba5b-aff1a73fd5f8"
      },
      "execution_count": 12,
      "outputs": [
        {
          "output_type": "stream",
          "name": "stdout",
          "text": [
            "HELLO\n"
          ]
        }
      ]
    },
    {
      "cell_type": "markdown",
      "source": [
        "5. Replace the word \"apple\" with \"orange\" in the string \"I like apple\""
      ],
      "metadata": {
        "id": "lN99Nm9zVliP"
      }
    },
    {
      "cell_type": "code",
      "source": [
        "s = \"I like Apple\"\n",
        "print(s.replace(\"Apple\", \"Orange\"))"
      ],
      "metadata": {
        "colab": {
          "base_uri": "https://localhost:8080/"
        },
        "id": "P6tqDt6JVoxk",
        "outputId": "70fb322e-65a1-4ab1-a952-a0778d56121b"
      },
      "execution_count": 13,
      "outputs": [
        {
          "output_type": "stream",
          "name": "stdout",
          "text": [
            "I like Orange\n"
          ]
        }
      ]
    },
    {
      "cell_type": "markdown",
      "source": [
        "6. Create a list with numbers 1 to 5 and print it"
      ],
      "metadata": {
        "id": "Z00N2zd-V57f"
      }
    },
    {
      "cell_type": "code",
      "source": [
        "list = [1,2,3,4,5]\n",
        "print(list)"
      ],
      "metadata": {
        "colab": {
          "base_uri": "https://localhost:8080/"
        },
        "id": "3WzdMtuyV7EJ",
        "outputId": "d8de3086-402c-48f3-9234-437305fea8b5"
      },
      "execution_count": 19,
      "outputs": [
        {
          "output_type": "stream",
          "name": "stdout",
          "text": [
            "[1, 2, 3, 4, 5]\n"
          ]
        }
      ]
    },
    {
      "cell_type": "markdown",
      "source": [
        "7. Append the number 10 to the list [1, 2, 3, 4]"
      ],
      "metadata": {
        "id": "_LXwAJRtWD2L"
      }
    },
    {
      "cell_type": "code",
      "source": [
        "list = [1,2,3,4]\n",
        "list.append(10)\n",
        "print(list)"
      ],
      "metadata": {
        "colab": {
          "base_uri": "https://localhost:8080/"
        },
        "id": "WEDngM6MWGQl",
        "outputId": "af028658-4b09-4d8d-a8d5-423a915a948c"
      },
      "execution_count": 18,
      "outputs": [
        {
          "output_type": "stream",
          "name": "stdout",
          "text": [
            "[1, 2, 3, 4, 10]\n"
          ]
        }
      ]
    },
    {
      "cell_type": "markdown",
      "source": [
        "8. Remove the number 3 from the list [1, 2, 3, 4, 5]"
      ],
      "metadata": {
        "id": "c5COg9r1W0N4"
      }
    },
    {
      "cell_type": "code",
      "source": [
        "List = [1,2,3,4,5]\n",
        "List.remove(3)\n",
        "print(List)"
      ],
      "metadata": {
        "colab": {
          "base_uri": "https://localhost:8080/"
        },
        "id": "F6UcpxobW12o",
        "outputId": "b6b820ba-0765-4f57-e09c-b16d4c1071d4"
      },
      "execution_count": 20,
      "outputs": [
        {
          "output_type": "stream",
          "name": "stdout",
          "text": [
            "[1, 2, 4, 5]\n"
          ]
        }
      ]
    },
    {
      "cell_type": "markdown",
      "source": [
        "9. Access the second element in the list ['a', 'b', 'c', 'd']"
      ],
      "metadata": {
        "id": "VgviqkJjXEJN"
      }
    },
    {
      "cell_type": "code",
      "source": [
        "Chars = ['a', 'b', 'c', 'd']\n",
        "print(Chars[1])"
      ],
      "metadata": {
        "id": "zr7N5l6lXHOw"
      },
      "execution_count": null,
      "outputs": []
    },
    {
      "cell_type": "markdown",
      "source": [
        "10. Reverse the list [10, 20, 30, 40, 50]"
      ],
      "metadata": {
        "id": "r4kdzTAMXKc-"
      }
    },
    {
      "cell_type": "code",
      "source": [
        "lst = [10, 20, 30, 40, 50]\n",
        "lst.reverse()\n",
        "print(lst)"
      ],
      "metadata": {
        "colab": {
          "base_uri": "https://localhost:8080/"
        },
        "id": "PfbrdqMeXMJJ",
        "outputId": "3bcc37dd-0862-4a49-8a45-53e7a152f4a1"
      },
      "execution_count": 21,
      "outputs": [
        {
          "output_type": "stream",
          "name": "stdout",
          "text": [
            "[50, 40, 30, 20, 10]\n"
          ]
        }
      ]
    },
    {
      "cell_type": "markdown",
      "source": [
        "11. Create a tuple with the elements 100, 200, 300 and print it"
      ],
      "metadata": {
        "id": "BuLlgAhgXO_t"
      }
    },
    {
      "cell_type": "code",
      "source": [
        "t = (100, 200, 300)\n",
        "print(t)"
      ],
      "metadata": {
        "id": "0TbkjN5MXRx-"
      },
      "execution_count": null,
      "outputs": []
    },
    {
      "cell_type": "markdown",
      "source": [
        "12. Access the second-to-last element of the tuple ('red', 'green', 'blue', 'yellow')"
      ],
      "metadata": {
        "id": "uSNBnjLLXVjV"
      }
    },
    {
      "cell_type": "code",
      "source": [
        "colors = ('red', 'green', 'blue', 'yellow')\n",
        "print(colors[-2])"
      ],
      "metadata": {
        "colab": {
          "base_uri": "https://localhost:8080/"
        },
        "id": "EHTEDU38XYBh",
        "outputId": "5aed7ea8-ea63-43a1-acf4-25496a60466b"
      },
      "execution_count": 22,
      "outputs": [
        {
          "output_type": "stream",
          "name": "stdout",
          "text": [
            "blue\n"
          ]
        }
      ]
    },
    {
      "cell_type": "markdown",
      "source": [
        "13. Find the minimum number in the tuple (10, 20, 5, 15)"
      ],
      "metadata": {
        "id": "I_m4rTS8XdB6"
      }
    },
    {
      "cell_type": "code",
      "source": [
        "nums = (10, 20, 5, 15)\n",
        "print(min(nums))"
      ],
      "metadata": {
        "id": "yWINpJ8xXeVN"
      },
      "execution_count": null,
      "outputs": []
    },
    {
      "cell_type": "markdown",
      "source": [
        "14. Find the index of the element \"cat\" in the tuple ('dog', 'cat', 'rabbit')"
      ],
      "metadata": {
        "id": "YK2LA-PAXgns"
      }
    },
    {
      "cell_type": "code",
      "source": [
        "animals = ('dog', 'cat', 'rabbit')\n",
        "print(animals.index(\"cat\"))"
      ],
      "metadata": {
        "colab": {
          "base_uri": "https://localhost:8080/"
        },
        "id": "0KxiJGDGXkij",
        "outputId": "861be6dc-c2c3-4ce8-c72f-58bc499893b0"
      },
      "execution_count": 23,
      "outputs": [
        {
          "output_type": "stream",
          "name": "stdout",
          "text": [
            "1\n"
          ]
        }
      ]
    },
    {
      "cell_type": "markdown",
      "source": [
        "15. Create a tuple containing three fruits and check if \"kiwi\" is in it"
      ],
      "metadata": {
        "id": "kE2yMdRtXov3"
      }
    },
    {
      "cell_type": "code",
      "source": [
        "fruits = ('apple', 'banana', 'orange')\n",
        "print(\"kiwi\" in fruits)"
      ],
      "metadata": {
        "colab": {
          "base_uri": "https://localhost:8080/"
        },
        "id": "EbQOxPLKXrBK",
        "outputId": "59ce5456-82e8-4021-d768-a5912a99ee64"
      },
      "execution_count": 25,
      "outputs": [
        {
          "output_type": "stream",
          "name": "stdout",
          "text": [
            "False\n"
          ]
        }
      ]
    },
    {
      "cell_type": "markdown",
      "source": [
        "16. Create a set with the elements 'a', 'b', 'c' and print it"
      ],
      "metadata": {
        "id": "tcDjVcUTZFkz"
      }
    },
    {
      "cell_type": "code",
      "source": [
        "s = {'a', 'b', 'c'}\n",
        "print(s)"
      ],
      "metadata": {
        "id": "ssLwMJvRZGRz"
      },
      "execution_count": null,
      "outputs": []
    },
    {
      "cell_type": "markdown",
      "source": [
        "17. Clear all elements from the set {1, 2, 3, 4, 5}"
      ],
      "metadata": {
        "id": "ADoWE-J4ZJLR"
      }
    },
    {
      "cell_type": "code",
      "source": [
        "s = {1, 2, 3, 4, 5}\n",
        "print(s.clear())"
      ],
      "metadata": {
        "colab": {
          "base_uri": "https://localhost:8080/"
        },
        "id": "Kwt9K6MRZKjd",
        "outputId": "2e81d559-8410-43f4-a76e-67302dd697a7"
      },
      "execution_count": 26,
      "outputs": [
        {
          "output_type": "stream",
          "name": "stdout",
          "text": [
            "None\n"
          ]
        }
      ]
    },
    {
      "cell_type": "markdown",
      "source": [
        "18. Remove the element 4 from the set {1, 2, 3, 4}"
      ],
      "metadata": {
        "id": "a-426VoMZSDd"
      }
    },
    {
      "cell_type": "code",
      "source": [
        "s = {1, 2, 3, 4}\n",
        "s.remove(4)\n",
        "print(s)"
      ],
      "metadata": {
        "colab": {
          "base_uri": "https://localhost:8080/"
        },
        "id": "7YpCGvEyZdYE",
        "outputId": "d754d0b3-189d-4578-c65e-7aef4322bb69"
      },
      "execution_count": 32,
      "outputs": [
        {
          "output_type": "stream",
          "name": "stdout",
          "text": [
            "{1, 2, 3}\n"
          ]
        }
      ]
    },
    {
      "cell_type": "markdown",
      "source": [
        "19. Find the union of two sets {1, 2, 3} and {3, 4, 5}"
      ],
      "metadata": {
        "id": "InZ3CiAuZziV"
      }
    },
    {
      "cell_type": "code",
      "source": [
        "a = {1, 2, 3}\n",
        "b = {3, 4, 5}\n",
        "print(a.union(b))"
      ],
      "metadata": {
        "colab": {
          "base_uri": "https://localhost:8080/"
        },
        "id": "7XQqw036Z3HX",
        "outputId": "2e5b5793-d2c7-4e59-e6b1-28ab2c4bfedc"
      },
      "execution_count": 33,
      "outputs": [
        {
          "output_type": "stream",
          "name": "stdout",
          "text": [
            "{1, 2, 3, 4, 5}\n"
          ]
        }
      ]
    },
    {
      "cell_type": "markdown",
      "source": [
        "20. Find the intersection of two sets {1, 2, 3} and {2, 3, 4}"
      ],
      "metadata": {
        "id": "EQiItvkNZ51i"
      }
    },
    {
      "cell_type": "code",
      "source": [
        "a = {1, 2, 3}\n",
        "b = {2, 3, 4}\n",
        "print(a.intersection(b))"
      ],
      "metadata": {
        "colab": {
          "base_uri": "https://localhost:8080/"
        },
        "id": "syHDY69fZ8Fm",
        "outputId": "1502f15c-9525-4c96-b4f0-a4be370a7596"
      },
      "execution_count": 35,
      "outputs": [
        {
          "output_type": "stream",
          "name": "stdout",
          "text": [
            "{2, 3}\n"
          ]
        }
      ]
    },
    {
      "cell_type": "markdown",
      "source": [
        "21. Create a dictionary with the keys \"name\", \"age\", and \"city\", and print it"
      ],
      "metadata": {
        "id": "oG5Ox73VZ8o0"
      }
    },
    {
      "cell_type": "code",
      "source": [
        "person = {\"name\": \"Alice\", \"age\": 30, \"city\": \"Paris\"}\n",
        "print(person)"
      ],
      "metadata": {
        "colab": {
          "base_uri": "https://localhost:8080/"
        },
        "id": "RiKtoOdLaBZa",
        "outputId": "78a60c9c-5309-446a-d470-aaf502589d13"
      },
      "execution_count": 34,
      "outputs": [
        {
          "output_type": "stream",
          "name": "stdout",
          "text": [
            "{'name': 'Alice', 'age': 30, 'city': 'Paris'}\n"
          ]
        }
      ]
    },
    {
      "cell_type": "markdown",
      "source": [
        "22. Add a new key-value pair \"country\": \"USA\" to the dictionary {'name': 'John', 'age': 25}"
      ],
      "metadata": {
        "id": "SP1KKLocaEVG"
      }
    },
    {
      "cell_type": "code",
      "source": [
        "person = {'name': 'John', 'age': 25}\n",
        "person['country'] = \"USA\"\n",
        "print(person)"
      ],
      "metadata": {
        "colab": {
          "base_uri": "https://localhost:8080/"
        },
        "id": "yT_auPrmaGe8",
        "outputId": "2175fe18-3dcc-4ba3-c263-bbc20ef30d53"
      },
      "execution_count": 36,
      "outputs": [
        {
          "output_type": "stream",
          "name": "stdout",
          "text": [
            "{'name': 'John', 'age': 25, 'country': 'USA'}\n"
          ]
        }
      ]
    },
    {
      "cell_type": "markdown",
      "source": [
        "23. Access the value associated with the key \"name\" in the dictionary {'name': 'Alice', 'age': 30}"
      ],
      "metadata": {
        "id": "rhUUY41baS-p"
      }
    },
    {
      "cell_type": "code",
      "source": [
        "Dic = {'name': 'Alice', 'age': 30}\n",
        "print(Dic['name'])"
      ],
      "metadata": {
        "colab": {
          "base_uri": "https://localhost:8080/"
        },
        "id": "Y0_FKYVcaVrM",
        "outputId": "d3fd17c0-2925-4bfb-e892-0c13c93cee9e"
      },
      "execution_count": 37,
      "outputs": [
        {
          "output_type": "stream",
          "name": "stdout",
          "text": [
            "Alice\n"
          ]
        }
      ]
    },
    {
      "cell_type": "markdown",
      "source": [
        "24. Remove the key \"age\" from the dictionary {'name': 'Bob', 'age': 22, 'city': 'New York'}"
      ],
      "metadata": {
        "id": "WlpTwUN4abYR"
      }
    },
    {
      "cell_type": "code",
      "source": [
        "dic = {'name': 'Bob', 'age': 22, 'city': 'New York'}\n",
        "dic.pop('age')\n",
        "print(dic)"
      ],
      "metadata": {
        "colab": {
          "base_uri": "https://localhost:8080/"
        },
        "id": "P7mAxjn0adYX",
        "outputId": "201f699c-8f8e-46f4-d67b-3d16f3efae18"
      },
      "execution_count": 41,
      "outputs": [
        {
          "output_type": "stream",
          "name": "stdout",
          "text": [
            "{'name': 'Bob', 'city': 'New York'}\n"
          ]
        }
      ]
    },
    {
      "cell_type": "markdown",
      "source": [
        "25. Check if the key \"city\" exists in the dictionary {'name': 'Alice', 'city': 'Paris'}"
      ],
      "metadata": {
        "id": "noo_ZR0ea67I"
      }
    },
    {
      "cell_type": "code",
      "source": [
        "dic = {'name': 'Alice', 'city': 'Paris'}\n",
        "print('city' in dic)"
      ],
      "metadata": {
        "colab": {
          "base_uri": "https://localhost:8080/"
        },
        "id": "uTHyGXx_a9PR",
        "outputId": "1763715e-6aa0-4981-846d-68b150987f65"
      },
      "execution_count": 42,
      "outputs": [
        {
          "output_type": "stream",
          "name": "stdout",
          "text": [
            "True\n"
          ]
        }
      ]
    },
    {
      "cell_type": "markdown",
      "source": [
        "26. Create a list, a tuple, and a dictionary, and print them all"
      ],
      "metadata": {
        "id": "wQAu667ybC-r"
      }
    },
    {
      "cell_type": "code",
      "source": [
        "my_list = [1, 2, 3]\n",
        "my_tuple = (4, 5, 6)\n",
        "my_dict = {'a': 1, 'b': 2}\n",
        "print(my_list)\n",
        "print(my_tuple)\n",
        "print(my_dict)"
      ],
      "metadata": {
        "colab": {
          "base_uri": "https://localhost:8080/"
        },
        "id": "Zg9QzWnwbF59",
        "outputId": "d67fa6fe-e57f-4c67-e1a5-3db4076a9bb3"
      },
      "execution_count": 43,
      "outputs": [
        {
          "output_type": "stream",
          "name": "stdout",
          "text": [
            "[1, 2, 3]\n",
            "(4, 5, 6)\n",
            "{'a': 1, 'b': 2}\n"
          ]
        }
      ]
    },
    {
      "cell_type": "markdown",
      "source": [
        "27. Create a list of 5 random numbers between 1 and 100, sort it in ascending order, and print it"
      ],
      "metadata": {
        "id": "uCtosQePbLDV"
      }
    },
    {
      "cell_type": "code",
      "source": [
        "import random\n",
        "nums = random.sample(range(1, 101), 5)\n",
        "nums.sort()\n",
        "print(nums)"
      ],
      "metadata": {
        "colab": {
          "base_uri": "https://localhost:8080/"
        },
        "id": "LXwufeO-bMXs",
        "outputId": "8d69e1d9-43fd-43d4-9a27-4ae644209431"
      },
      "execution_count": 46,
      "outputs": [
        {
          "output_type": "stream",
          "name": "stdout",
          "text": [
            "[35, 36, 52, 76, 89]\n"
          ]
        }
      ]
    },
    {
      "cell_type": "markdown",
      "source": [
        "28. Create a list with strings and print the element at the third index"
      ],
      "metadata": {
        "id": "fN1u4uJHbN7G"
      }
    },
    {
      "cell_type": "code",
      "source": [
        "words = [\"one\", \"two\", \"three\", \"four\", \"five\"]\n",
        "print(words[3])"
      ],
      "metadata": {
        "colab": {
          "base_uri": "https://localhost:8080/"
        },
        "id": "FWEmY6DTbVFU",
        "outputId": "24a3d88f-b2ba-468c-cd16-a94215eae13f"
      },
      "execution_count": 47,
      "outputs": [
        {
          "output_type": "stream",
          "name": "stdout",
          "text": [
            "four\n"
          ]
        }
      ]
    },
    {
      "cell_type": "markdown",
      "source": [
        "29. Combine two dictionaries into one and print the result"
      ],
      "metadata": {
        "id": "bK80jCzEbZFt"
      }
    },
    {
      "cell_type": "code",
      "source": [
        "a = {'x': 1, 'y': 2}\n",
        "b = {'z': 3, 'w': 4}\n",
        "combined = {**a, **b}\n",
        "print(combined)"
      ],
      "metadata": {
        "colab": {
          "base_uri": "https://localhost:8080/"
        },
        "id": "SV3pEzZwbboQ",
        "outputId": "2280aa2d-5021-4f98-ced1-e86f72badc84"
      },
      "execution_count": 48,
      "outputs": [
        {
          "output_type": "stream",
          "name": "stdout",
          "text": [
            "{'x': 1, 'y': 2, 'z': 3, 'w': 4}\n"
          ]
        }
      ]
    },
    {
      "cell_type": "markdown",
      "source": [
        "30. Convert a list of strings into a set"
      ],
      "metadata": {
        "id": "q-hLgdbgbfcB"
      }
    },
    {
      "cell_type": "code",
      "source": [
        "words = [\"apple\", \"banana\", \"apple\", \"orange\"]\n",
        "word_set = set(words)\n",
        "print(word_set)"
      ],
      "metadata": {
        "id": "xSYhwwoubg4h",
        "outputId": "fb48b6ef-64a3-43c6-a481-35f557fa9021",
        "colab": {
          "base_uri": "https://localhost:8080/"
        }
      },
      "execution_count": 49,
      "outputs": [
        {
          "output_type": "stream",
          "name": "stdout",
          "text": [
            "{'banana', 'apple', 'orange'}\n"
          ]
        }
      ]
    }
  ]
}